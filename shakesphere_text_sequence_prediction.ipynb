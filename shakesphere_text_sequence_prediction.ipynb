{
  "nbformat": 4,
  "nbformat_minor": 0,
  "metadata": {
    "colab": {
      "name": "shakesphere text sequence prediction.ipynb",
      "provenance": [],
      "collapsed_sections": []
    },
    "kernelspec": {
      "name": "python3",
      "display_name": "Python 3"
    },
    "accelerator": "GPU"
  },
  "cells": [
    {
      "cell_type": "code",
      "metadata": {
        "id": "d0SYeDzmUsYu",
        "colab_type": "code",
        "colab": {}
      },
      "source": [
        "import numpy as np\n",
        "from keras.models import Model\n",
        "from keras.layers import Dense, Reshape, LSTM, Input, Dropout\n",
        "from keras.optimizers import Adam\n",
        "from keras import backend as K"
      ],
      "execution_count": 0,
      "outputs": []
    },
    {
      "cell_type": "code",
      "metadata": {
        "id": "7SS1qRD4epiL",
        "colab_type": "code",
        "colab": {}
      },
      "source": [
        "file_name = \"shakespeare.txt\""
      ],
      "execution_count": 0,
      "outputs": []
    },
    {
      "cell_type": "code",
      "metadata": {
        "id": "TmKIQ8xCezfw",
        "colab_type": "code",
        "colab": {}
      },
      "source": [
        "data = open(file_name,'r').read()\n",
        "data = data.lower().strip()\n",
        "chars = list(set(data))\n",
        "vocab_size = len(chars)\n",
        "print(len(data),vocab_size)"
      ],
      "execution_count": 0,
      "outputs": []
    },
    {
      "cell_type": "code",
      "metadata": {
        "id": "jNISCwmMfet7",
        "colab_type": "code",
        "colab": {}
      },
      "source": [
        "sorted_chars = sorted(chars)\n",
        "char_to_ix = {ch:i for i,ch in enumerate(sorted_chars)}\n",
        "ix_to_char = {i:ch for i,ch in enumerate(sorted_chars)}\n",
        "print(char_to_ix)"
      ],
      "execution_count": 0,
      "outputs": []
    },
    {
      "cell_type": "code",
      "metadata": {
        "id": "W-fs5OVciYlf",
        "colab_type": "code",
        "colab": {}
      },
      "source": [
        "X = []\n",
        "Y = []\n",
        "Tx = 40\n",
        "stride = 3\n",
        "for i in range(0, len(data)-Tx,stride):\n",
        "  X.append(data[i:i+Tx])\n",
        "  Y.append(data[i+Tx])\n",
        "print(len(X))\n",
        "print(len(Y))"
      ],
      "execution_count": 0,
      "outputs": []
    },
    {
      "cell_type": "code",
      "metadata": {
        "id": "KYWSK3qTkW_E",
        "colab_type": "code",
        "colab": {}
      },
      "source": [
        "# vectorization\n",
        "m = len(X)\n",
        "x = np.zeros((m,Tx,vocab_size), dtype=np.bool)\n",
        "y = np.zeros((m,vocab_size),dtype = np.bool)\n",
        "\n",
        "for i,sentence in enumerate(X):\n",
        "  for j,char in enumerate(sentence):\n",
        "    x[i,j,char_to_ix[char]] = 1\n",
        "  y[i,char_to_ix[Y[i]]] = 1\n",
        "\n",
        "print(x.shape)\n",
        "print(y.shape)\n",
        "\n"
      ],
      "execution_count": 0,
      "outputs": []
    },
    {
      "cell_type": "code",
      "metadata": {
        "id": "VFS8Xg3iqg5k",
        "colab_type": "code",
        "colab": {}
      },
      "source": [
        "n_a =256"
      ],
      "execution_count": 0,
      "outputs": []
    },
    {
      "cell_type": "code",
      "metadata": {
        "id": "WmUMFD6tmbIR",
        "colab_type": "code",
        "colab": {}
      },
      "source": [
        "def text_generation_model(vocab_size,n_a,Tx):\n",
        "  X = Input(shape=(Tx,vocab_size))\n",
        "  x = LSTM(units = n_a,return_sequences=True)(inputs=X)\n",
        "  x = Dropout(0.2)(x)\n",
        "  x = LSTM(units = n_a)(inputs=x)\n",
        "  x = Dropout(0.2)(x)\n",
        "  out = Dense(vocab_size,activation='softmax')(x)\n",
        "\n",
        "  model = Model(X,out)\n",
        "  return model\n"
      ],
      "execution_count": 0,
      "outputs": []
    },
    {
      "cell_type": "code",
      "metadata": {
        "id": "24XB97fhqXeZ",
        "colab_type": "code",
        "colab": {}
      },
      "source": [
        "text_model = text_generation_model(vocab_size, n_a , Tx)"
      ],
      "execution_count": 0,
      "outputs": []
    },
    {
      "cell_type": "code",
      "metadata": {
        "id": "f0chU3drq-M6",
        "colab_type": "code",
        "colab": {}
      },
      "source": [
        "text_model.summary()"
      ],
      "execution_count": 0,
      "outputs": []
    },
    {
      "cell_type": "code",
      "metadata": {
        "id": "5UYHeYyorKvB",
        "colab_type": "code",
        "colab": {}
      },
      "source": [
        "optimizer = Adam(learning_rate=0.01)\n",
        "text_model.compile(optimizer, loss = 'categorical_crossentropy',metrics=[\"accuracy\"])"
      ],
      "execution_count": 0,
      "outputs": []
    },
    {
      "cell_type": "code",
      "metadata": {
        "id": "ieSlUArTrfuq",
        "colab_type": "code",
        "colab": {}
      },
      "source": [
        "text_model.fit(x,y,batch_size=256,epochs=100)"
      ],
      "execution_count": 0,
      "outputs": []
    },
    {
      "cell_type": "code",
      "metadata": {
        "id": "jsQ8Gmhjxqer",
        "colab_type": "code",
        "colab": {}
      },
      "source": [
        "def sample(preds, temparature=1.0):\n",
        "  preds = np.asarray(preds).astype('float32')\n",
        "  preds = np.log(preds)/temparature\n",
        "  exp_preds = np.exp(preds)\n",
        "  preds = exp_preds/np.sum(exp_preds)\n",
        "  probs = np.random.multinomial(1,preds,1)\n",
        "  out = np.random.choice(list(range(vocab_size)),p=probs.ravel())\n",
        "  return out"
      ],
      "execution_count": 0,
      "outputs": []
    },
    {
      "cell_type": "code",
      "metadata": {
        "id": "oiuF6MNVsuAm",
        "colab_type": "code",
        "colab": {}
      },
      "source": [
        "idx = np.random.randint(0,len(X)-1)\n",
        "sentence = X[idx]\n",
        "generated = ''\n",
        "generated += sentence\n",
        "\n",
        "for i in range(100):\n",
        "  x_test = np.zeros((1,Tx,vocab_size))\n",
        "  for t,char in enumerate(sentence):\n",
        "    if char!='0':\n",
        "      x_test[0,t,char_to_ix[char]] = 1\n",
        "    preds = text_model.predict(x_test)\n",
        "    preds = np.asarray(preds).astype('float32')\n",
        "    #preds = np.argmax(preds)\n",
        "    preds = np.random.choice(list(range(vocab_size)),p=preds.ravel())\n",
        "    next_char = ix_to_char[preds]\n",
        "    generated += next_char\n",
        "    sentence = sentence[1:]+next_char\n",
        "\n",
        "print(generated)\n",
        "\n",
        "\n",
        "\n"
      ],
      "execution_count": 0,
      "outputs": []
    },
    {
      "cell_type": "code",
      "metadata": {
        "id": "dd-UcTlwwWQg",
        "colab_type": "code",
        "colab": {}
      },
      "source": [
        ""
      ],
      "execution_count": 0,
      "outputs": []
    }
  ]
}